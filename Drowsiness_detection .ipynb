{
 "cells": [
  {
   "cell_type": "code",
   "execution_count": 1,
   "id": "958ba562",
   "metadata": {},
   "outputs": [],
   "source": [
    "from scipy.spatial import distance as dist\n",
    "from imutils.video import VideoStream\n",
    "from imutils import face_utils\n",
    "from threading import Thread\n",
    "import numpy as np\n",
    "import playsound\n",
    "import argparse\n",
    "import imutils\n",
    "import time\n",
    "import dlib\n",
    "import cv2"
   ]
  },
  {
   "cell_type": "code",
   "execution_count": 3,
   "id": "cc0699b3",
   "metadata": {},
   "outputs": [],
   "source": [
    "def sound_alarm(path):\n",
    "    playsound.playsound(path)\n",
    "path = \"C:/Users/91874/Downloads/code-red-185448.mp3\""
   ]
  },
  {
   "cell_type": "code",
   "execution_count": 4,
   "id": "a9701b8d",
   "metadata": {},
   "outputs": [],
   "source": [
    "#let's define EAR----->\n",
    "def Eye_Aspect_Ratio(eye):\n",
    "        A = dist.euclidean(eye[1], eye[5])\n",
    "        B = dist.euclidean(eye[2], eye[4])\n",
    "  \n",
    "        C = dist.euclidean(eye[0], eye[3])\n",
    "        \n",
    "        ear = (A + B) / (2.0 * C)\n",
    "    \n",
    "        return ear"
   ]
  },
  {
   "cell_type": "code",
   "execution_count": 5,
   "id": "2b200e55",
   "metadata": {},
   "outputs": [],
   "source": [
    "detector = dlib.get_frontal_face_detector()\n",
    "predictor = dlib.shape_predictor(r\"C:\\Users\\91874\\Downloads\\shape_predictor_dlib.dat\")"
   ]
  },
  {
   "cell_type": "code",
   "execution_count": 12,
   "id": "c07e6a11",
   "metadata": {
    "scrolled": true
   },
   "outputs": [],
   "source": [
    "threshold_value=0.3\n",
    "allowed_frames_for_lower_ear = 48\n",
    "COUNTER=0\n",
    "ALARM_ON = False"
   ]
  },
  {
   "cell_type": "code",
   "execution_count": 7,
   "id": "5846fe16",
   "metadata": {},
   "outputs": [],
   "source": [
    "(lStart, lEnd) = face_utils.FACIAL_LANDMARKS_IDXS[\"left_eye\"]\n",
    "(rStart, rEnd) = face_utils.FACIAL_LANDMARKS_IDXS[\"right_eye\"]"
   ]
  },
  {
   "cell_type": "code",
   "execution_count": 8,
   "id": "8a511da7",
   "metadata": {},
   "outputs": [],
   "source": [
    "from threading import Thread"
   ]
  },
  {
   "cell_type": "code",
   "execution_count": null,
   "id": "9a6e174f",
   "metadata": {
    "scrolled": true
   },
   "outputs": [],
   "source": [
    "vs = VideoStream(src=0).start()\n",
    "time.sleep(1.0)\n",
    "while True:\n",
    "    frame = vs.read()\n",
    "    frame = imutils.resize(frame, width=450)\n",
    "    gray = cv2.cvtColor(frame, cv2.COLOR_BGR2GRAY)\n",
    "    rects = detector(gray, 0)\n",
    "    for rect in rects:\n",
    "        shape = predictor(gray, rect)\n",
    "        shape = face_utils.shape_to_np(shape)\n",
    "        \n",
    "        leftEye = shape[lStart:lEnd]\n",
    "        rightEye = shape[rStart:rEnd]\n",
    "        leftEAR = Eye_Aspect_Ratio(leftEye)\n",
    "        rightEAR = Eye_Aspect_Ratio(rightEye)\n",
    "        \n",
    "        ear = (leftEAR + rightEAR) / 2.0\n",
    "        \n",
    "        leftEyeHull = cv2.convexHull(leftEye)\n",
    "        rightEyeHull = cv2.convexHull(rightEye)\n",
    "        cv2.drawContours(frame, [leftEyeHull], -1, (0, 255, 0), 1)\n",
    "        cv2.drawContours(frame, [rightEyeHull], -1, (0, 255, 0), 1)\n",
    "        \n",
    "        if ear < threshold_value:\n",
    "            COUNTER += 1\n",
    "            if COUNTER >= allowed_frames_for_lower_ear:\n",
    "                if not ALARM_ON:\n",
    "                    ALARM_ON = True  \n",
    "                    if path != \"\":\n",
    "                        t = Thread(target=sound_alarm, args=(path,))\n",
    "                        t.daemon = True\n",
    "                        t.start()\n",
    "                cv2.putText(frame, \"!!!!!!DROWSINESS ALERT!!!!!!\", (10, 30), cv2.FONT_HERSHEY_SIMPLEX, 0.7, (0, 0, 255), 2)\n",
    "        else:\n",
    "            COUNTER = 0\n",
    "            if ALARM_ON:\n",
    "                ALARM_ON = False\n",
    "        cv2.putText(frame, \"EAR: {:.2f}\".format(ear), (300, 30), cv2.FONT_HERSHEY_SIMPLEX, 0.7, (0, 0, 255), 2)\n",
    "    \n",
    "    cv2.imshow(\"Frame\", frame)\n",
    "    key = cv2.waitKey(1) & 0xFF\n",
    "    \n",
    "    \n",
    "    if key == ord(\"q\"):\n",
    "            break\n",
    "\n",
    "cv2.destroyAllWindows()\n",
    "vs.stop()"
   ]
  },
  {
   "cell_type": "code",
   "execution_count": 10,
   "id": "f08d99f3",
   "metadata": {},
   "outputs": [],
   "source": []
  }
 ],
 "metadata": {
  "kernelspec": {
   "display_name": "Python 3 (ipykernel)",
   "language": "python",
   "name": "python3"
  },
  "language_info": {
   "codemirror_mode": {
    "name": "ipython",
    "version": 3
   },
   "file_extension": ".py",
   "mimetype": "text/x-python",
   "name": "python",
   "nbconvert_exporter": "python",
   "pygments_lexer": "ipython3",
   "version": "3.10.9"
  }
 },
 "nbformat": 4,
 "nbformat_minor": 5
}
